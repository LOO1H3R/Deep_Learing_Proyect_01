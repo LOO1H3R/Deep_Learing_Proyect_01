{
 "cells": [
  {
   "cell_type": "code",
   "execution_count": 3,
   "metadata": {},
   "outputs": [
    {
     "name": "stdout",
     "output_type": "stream",
     "text": [
      "Noisy image saved to noise/city_Image_83.jpg\n",
      "Noisy image saved to noise/city_Image_44.jpg\n",
      "Noisy image saved to noise/city_Image_10.jpeg\n",
      "Noisy image saved to noise/city_Image_23.jpg\n",
      "Noisy image saved to noise/city_Image_67.jpg\n",
      "Noisy image saved to noise/city_Image_36.jpg\n",
      "Noisy image saved to noise/city_Image_18.jpg\n",
      "Noisy image saved to noise/city_Image_5.jpg\n",
      "Noisy image saved to noise/city_Image_46.jpg\n",
      "Noisy image saved to noise/forest_Image_83.jpg\n",
      "Noisy image saved to noise/forest_Image_44.jpg\n",
      "Noisy image saved to noise/forest_Image_43.jpg\n",
      "Noisy image saved to noise/forest_Image_3.jpg\n",
      "Noisy image saved to noise/forest_Image_33.jpg\n",
      "Noisy image saved to noise/forest_Image_92.jpg\n",
      "Noisy image saved to noise/forest_Image_55.jpg\n",
      "Noisy image saved to noise/forest_Image_35.jpg\n",
      "Noisy image saved to noise/forest_Image_85.jpg\n",
      "Noisy image saved to noise/forest_Image_84.jpg\n"
     ]
    }
   ],
   "source": [
    "import os\n",
    "import numpy as np\n",
    "from PIL import Image\n",
    "\n",
    "# Añadir Ruido Gaussiano\n",
    "def add_gaussian_noise(image, mean=0, std=0.3):\n",
    "    noise = np.random.normal(mean, std, image.shape)\n",
    "    noisy_image = np.clip(image + noise, 0, 1)\n",
    "    return noisy_image\n",
    "\n",
    "# Directories for the images\n",
    "city_dir = 'processed_dataset/city/test-city'\n",
    "forest_dir = 'processed_dataset/forest/test-forest'\n",
    "output_dir = 'noise'\n",
    "\n",
    "# Create the noise directory if it doesn't exist\n",
    "if not os.path.exists(output_dir):\n",
    "    os.makedirs(output_dir)\n",
    "\n",
    "# Function to process images from a directory\n",
    "def process_images_from_directory(input_dir, output_dir, category):\n",
    "    for filename in os.listdir(input_dir):\n",
    "        input_image_path = os.path.join(input_dir, filename)\n",
    "        \n",
    "        # Only process image files\n",
    "        if filename.endswith(('.png', '.jpg', '.jpeg')):\n",
    "            # Open image using PIL\n",
    "            img = Image.open(input_image_path)\n",
    "            # Convert image to a numpy array in range [0, 1]\n",
    "            img_array = np.asarray(img, dtype=float) / 255.0\n",
    "            # Add Gaussian noise\n",
    "            noisy_array = add_gaussian_noise(img_array)\n",
    "            # Convert numpy array back to a PIL image (scale back to [0,255])\n",
    "            noisy_pil = Image.fromarray((noisy_array * 255).astype(np.uint8))\n",
    "            output_image_path = os.path.join(output_dir, f\"{category}_{filename}\")\n",
    "            noisy_pil.save(output_image_path)\n",
    "            print(f\"Noisy image saved to {output_image_path}\")\n",
    "\n",
    "# Process images in both the city and forest directories\n",
    "process_images_from_directory(city_dir, output_dir, 'city')\n",
    "process_images_from_directory(forest_dir, output_dir, 'forest')\n"
   ]
  }
 ],
 "metadata": {
  "kernelspec": {
   "display_name": "new_env",
   "language": "python",
   "name": "python3"
  },
  "language_info": {
   "codemirror_mode": {
    "name": "ipython",
    "version": 3
   },
   "file_extension": ".py",
   "mimetype": "text/x-python",
   "name": "python",
   "nbconvert_exporter": "python",
   "pygments_lexer": "ipython3",
   "version": "3.12.3"
  }
 },
 "nbformat": 4,
 "nbformat_minor": 2
}
