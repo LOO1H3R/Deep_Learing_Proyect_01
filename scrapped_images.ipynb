{
 "cells": [
  {
   "cell_type": "code",
   "execution_count": 1,
   "metadata": {},
   "outputs": [
    {
     "ename": "TypeError",
     "evalue": "WebDriver.__init__() got an unexpected keyword argument 'executable_path'",
     "output_type": "error",
     "traceback": [
      "\u001b[31m---------------------------------------------------------------------------\u001b[39m",
      "\u001b[31mTypeError\u001b[39m                                 Traceback (most recent call last)",
      "\u001b[36mCell\u001b[39m\u001b[36m \u001b[39m\u001b[32mIn[1]\u001b[39m\u001b[32m, line 9\u001b[39m\n\u001b[32m      6\u001b[39m \u001b[38;5;28;01mimport\u001b[39;00m\u001b[38;5;250m \u001b[39m\u001b[34;01mos\u001b[39;00m\n\u001b[32m      8\u001b[39m \u001b[38;5;66;03m# Setup ChromeDriver\u001b[39;00m\n\u001b[32m----> \u001b[39m\u001b[32m9\u001b[39m driver = \u001b[43mwebdriver\u001b[49m\u001b[43m.\u001b[49m\u001b[43mChrome\u001b[49m\u001b[43m(\u001b[49m\u001b[43mexecutable_path\u001b[49m\u001b[43m=\u001b[49m\u001b[33;43m'\u001b[39;49m\u001b[33;43mchromedriver.exe\u001b[39;49m\u001b[33;43m'\u001b[39;49m\u001b[43m)\u001b[49m\n\u001b[32m     11\u001b[39m \u001b[38;5;66;03m# Search query\u001b[39;00m\n\u001b[32m     12\u001b[39m query = \u001b[33m\"\u001b[39m\u001b[33mcats\u001b[39m\u001b[33m\"\u001b[39m\n",
      "\u001b[31mTypeError\u001b[39m: WebDriver.__init__() got an unexpected keyword argument 'executable_path'"
     ]
    }
   ],
   "source": [
    "from selenium import webdriver\n",
    "from selenium.webdriver.common.by import By\n",
    "from selenium.webdriver.common.keys import Keys\n",
    "import time\n",
    "import requests\n",
    "import os\n",
    "\n",
    "# Setup ChromeDriver\n",
    "driver = webdriver.Chrome(executable_path='chromedriver.exe')\n",
    "\n",
    "# Search query\n",
    "query = \"cats\"\n",
    "driver.get(f\"https://www.google.com/search?tbm=isch&q={query}\")\n",
    "\n",
    "# Scroll down to load more images\n",
    "for _ in range(50):\n",
    "    driver.find_element(By.TAG_NAME, 'body').send_keys(Keys.PAGE_DOWN)\n",
    "    time.sleep(0.5)\n",
    "\n",
    "# Find all image elements\n",
    "images = driver.find_elements(By.CSS_SELECTOR, 'img.Q4LuWd')\n",
    "\n",
    "# Create folder\n",
    "os.makedirs(query, exist_ok=True)\n",
    "\n",
    "# Download images\n",
    "for i, img in enumerate(images[:100]):\n",
    "    img_url = img.get_attribute('src')\n",
    "    if img_url and img_url.startswith('http'):\n",
    "        img_data = requests.get(img_url).content\n",
    "        with open(f'{query}/{i}.jpg', 'wb') as f:\n",
    "            f.write(img_data)\n",
    "        print(f\"Downloaded {i+1} images\")\n",
    "\n",
    "driver.quit()\n"
   ]
  }
 ],
 "metadata": {
  "kernelspec": {
   "display_name": "projects-venv",
   "language": "python",
   "name": "python3"
  },
  "language_info": {
   "codemirror_mode": {
    "name": "ipython",
    "version": 3
   },
   "file_extension": ".py",
   "mimetype": "text/x-python",
   "name": "python",
   "nbconvert_exporter": "python",
   "pygments_lexer": "ipython3",
   "version": "3.12.3"
  }
 },
 "nbformat": 4,
 "nbformat_minor": 2
}
